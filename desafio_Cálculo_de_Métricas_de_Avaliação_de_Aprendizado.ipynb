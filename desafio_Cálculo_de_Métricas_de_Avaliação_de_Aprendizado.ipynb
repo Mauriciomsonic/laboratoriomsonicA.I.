{
  "nbformat": 4,
  "nbformat_minor": 0,
  "metadata": {
    "colab": {
      "provenance": [],
      "authorship_tag": "ABX9TyPTEMLn+AxuxRG3EDo/D7Py",
      "include_colab_link": true
    },
    "kernelspec": {
      "name": "python3",
      "display_name": "Python 3"
    },
    "language_info": {
      "name": "python"
    }
  },
  "cells": [
    {
      "cell_type": "markdown",
      "metadata": {
        "id": "view-in-github",
        "colab_type": "text"
      },
      "source": [
        "<a href=\"https://colab.research.google.com/github/Mauriciomsonic/laboratoriomsonicA.I./blob/main/desafio_C%C3%A1lculo_de_M%C3%A9tricas_de_Avalia%C3%A7%C3%A3o_de_Aprendizado.ipynb\" target=\"_parent\"><img src=\"https://colab.research.google.com/assets/colab-badge.svg\" alt=\"Open In Colab\"/></a>"
      ]
    },
    {
      "cell_type": "code",
      "execution_count": 1,
      "metadata": {
        "colab": {
          "base_uri": "https://localhost:8080/"
        },
        "id": "nqjnZysl1nis",
        "outputId": "aaf46f79-8b5a-48ce-c36f-5d28708ad805"
      },
      "outputs": [
        {
          "output_type": "stream",
          "name": "stdout",
          "text": [
            "Matriz de Confusão Arbitrária:\n",
            "VP = 50, VN = 30, FP = 10, FN = 5\n",
            "Total de Elementos (N) = 95\n",
            "\n",
            "Métricas Calculadas:\n",
            "Sensibilidade (Recall) = 0.9091\n",
            "Especificidade = 0.7500\n",
            "Acurácia = 0.8421\n",
            "Precisão = 0.8333\n",
            "F-Score = 0.8696\n",
            "\n",
            "--- Explicação das Métricas ---\n",
            "Sensibilidade: Capacidade de identificar corretamente os positivos (VP / (VP+FN))\n",
            "Especificidade: Capacidade de identificar corretamente os negativos (VN / (FP+VN))\n",
            "Acurácia: Percentual total de acertos ((VP+VN)/N)\n",
            "Precisão: Entre os previstos como positivos, quantos são realmente positivos (VP/(VP+FP))\n",
            "F-Score: Média harmônica entre Precisão e Sensibilidade (2*(P*S)/(P+S))\n"
          ]
        }
      ],
      "source": [
        "# Cálculo de Métricas de Avaliação de Aprendizado\n",
        "\n",
        "# Valores arbitrários da matriz de confusão (exemplo)\n",
        "VP = 50   # Verdadeiros Positivos\n",
        "VN = 30   # Verdadeiros Negativos\n",
        "FP = 10   # Falsos Positivos\n",
        "FN = 5    # Falsos Negativos\n",
        "\n",
        "# Total de elementos\n",
        "N = VP + VN + FP + FN\n",
        "\n",
        "# Cálculo das métricas\n",
        "sensibilidade = VP / (VP + FN) if (VP + FN) != 0 else 0\n",
        "especificidade = VN / (FP + VN) if (FP + VN) != 0 else 0\n",
        "acuracia = (VP + VN) / N if N != 0 else 0\n",
        "precisao = VP / (VP + FP) if (VP + FP) != 0 else 0\n",
        "f_score = 2 * (precisao * sensibilidade) / (precisao + sensibilidade) if (precisao + sensibilidade) != 0 else 0\n",
        "\n",
        "# Exibição dos resultados\n",
        "print(\"Matriz de Confusão Arbitrária:\")\n",
        "print(f\"VP = {VP}, VN = {VN}, FP = {FP}, FN = {FN}\")\n",
        "print(f\"Total de Elementos (N) = {N}\\n\")\n",
        "print(\"Métricas Calculadas:\")\n",
        "print(f\"Sensibilidade (Recall) = {sensibilidade:.4f}\")\n",
        "print(f\"Especificidade = {especificidade:.4f}\")\n",
        "print(f\"Acurácia = {acuracia:.4f}\")\n",
        "print(f\"Precisão = {precisao:.4f}\")\n",
        "print(f\"F-Score = {f_score:.4f}\")\n",
        "\n",
        "# Explicação das métricas\n",
        "print(\"\\n--- Explicação das Métricas ---\")\n",
        "print(\"Sensibilidade: Capacidade de identificar corretamente os positivos (VP / (VP+FN))\")\n",
        "print(\"Especificidade: Capacidade de identificar corretamente os negativos (VN / (FP+VN))\")\n",
        "print(\"Acurácia: Percentual total de acertos ((VP+VN)/N)\")\n",
        "print(\"Precisão: Entre os previstos como positivos, quantos são realmente positivos (VP/(VP+FP))\")\n",
        "print(\"F-Score: Média harmônica entre Precisão e Sensibilidade (2*(P*S)/(P+S))\")"
      ]
    }
  ]
}