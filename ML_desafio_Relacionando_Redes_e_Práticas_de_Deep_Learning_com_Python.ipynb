{
  "nbformat": 4,
  "nbformat_minor": 0,
  "metadata": {
    "colab": {
      "provenance": [],
      "authorship_tag": "ABX9TyOB5PwjvnpO2j5fWdlE1Snh",
      "include_colab_link": true
    },
    "kernelspec": {
      "name": "python3",
      "display_name": "Python 3"
    },
    "language_info": {
      "name": "python"
    }
  },
  "cells": [
    {
      "cell_type": "markdown",
      "metadata": {
        "id": "view-in-github",
        "colab_type": "text"
      },
      "source": [
        "<a href=\"https://colab.research.google.com/github/Mauriciomsonic/laboratoriomsonicA.I./blob/main/ML_desafio_Relacionando_Redes_e_Pr%C3%A1ticas_de_Deep_Learning_com_Python.ipynb\" target=\"_parent\"><img src=\"https://colab.research.google.com/assets/colab-badge.svg\" alt=\"Open In Colab\"/></a>"
      ]
    },
    {
      "cell_type": "code",
      "execution_count": 2,
      "metadata": {
        "colab": {
          "base_uri": "https://localhost:8080/"
        },
        "id": "GL5ZTAB2PfXW",
        "outputId": "b3f29278-67d7-4b71-c128-f6129c5517f5"
      },
      "outputs": [
        {
          "output_type": "stream",
          "name": "stdout",
          "text": [
            "🧠 TESTANDO REDES NEURAIS\n",
            "============================================================\n",
            "Entrada: convolutional neural network\n",
            "Saída:   usa filtros para extrair padrões espaciais em imagens\n",
            "------------------------------------------------------------\n",
            "Entrada: recurrent neural network\n",
            "Saída:   possui conexões recorrentes para processar sequências\n",
            "------------------------------------------------------------\n",
            "Entrada: transformer\n",
            "Saída:   usa mecanismos de atenção para processar sequências de forma paralela\n",
            "------------------------------------------------------------\n",
            "Entrada: autoencoder\n",
            "Saída:   aprende a codificar e depois reconstruir os dados\n",
            "------------------------------------------------------------\n"
          ]
        }
      ],
      "source": [
        "def test_neural_networks():\n",
        "    neural_networks = {\n",
        "        \"convolutional neural network\": \"usa filtros para extrair padrões espaciais em imagens\",\n",
        "        \"recurrent neural network\": \"possui conexões recorrentes para processar sequências\",\n",
        "        \"transformer\": \"usa mecanismos de atenção para processar sequências de forma paralela\",\n",
        "        \"autoencoder\": \"aprende a codificar e depois reconstruir os dados\"\n",
        "    }\n",
        "\n",
        "    # Testando todas as entradas\n",
        "    test_cases = [\n",
        "        \"convolutional neural network\",\n",
        "        \"recurrent neural network\",\n",
        "        \"transformer\",\n",
        "        \"autoencoder\"\n",
        "    ]\n",
        "\n",
        "    print(\"🧠 TESTANDO REDES NEURAIS\")\n",
        "    print(\"=\" * 60)\n",
        "\n",
        "    for test_case in test_cases:\n",
        "        result = neural_networks.get(test_case, \"Entrada não encontrada\")\n",
        "        print(f\"Entrada: {test_case}\")\n",
        "        print(f\"Saída:   {result}\")\n",
        "        print(\"-\" * 60)\n",
        "\n",
        "# Executar teste\n",
        "test_neural_networks()\n"
      ]
    }
  ]
}