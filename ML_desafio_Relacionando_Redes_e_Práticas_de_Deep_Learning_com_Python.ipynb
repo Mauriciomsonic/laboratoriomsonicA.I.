{
  "nbformat": 4,
  "nbformat_minor": 0,
  "metadata": {
    "colab": {
      "provenance": [],
      "authorship_tag": "ABX9TyOTgjTczhgIVcSA9oQ2SS7W",
      "include_colab_link": true
    },
    "kernelspec": {
      "name": "python3",
      "display_name": "Python 3"
    },
    "language_info": {
      "name": "python"
    }
  },
  "cells": [
    {
      "cell_type": "markdown",
      "metadata": {
        "id": "view-in-github",
        "colab_type": "text"
      },
      "source": [
        "<a href=\"https://colab.research.google.com/github/Mauriciomsonic/laboratoriomsonicA.I./blob/main/ML_desafio_Relacionando_Redes_e_Pr%C3%A1ticas_de_Deep_Learning_com_Python.ipynb\" target=\"_parent\"><img src=\"https://colab.research.google.com/assets/colab-badge.svg\" alt=\"Open In Colab\"/></a>"
      ]
    },
    {
      "cell_type": "code",
      "execution_count": 3,
      "metadata": {
        "colab": {
          "base_uri": "https://localhost:8080/"
        },
        "id": "GL5ZTAB2PfXW",
        "outputId": "1d0a3c0d-0f92-429b-bf8e-ed3538fa4236"
      },
      "outputs": [
        {
          "output_type": "stream",
          "name": "stdout",
          "text": [
            "🔍 Digite o tipo de rede neural:\n",
            "Opções válidas:\n",
            "- convolutional neural network\n",
            "- recurrent neural network\n",
            "- transformer\n",
            "- autoencoder\n",
            "\n",
            "Entrada: conversão de fala em texto por meio de redes neurais\n",
            "❌ Entrada não reconhecida. Use uma das opções listadas.\n"
          ]
        }
      ],
      "source": [
        "# Versão para Google Colab ou Jupyter Notebook\n",
        "def neural_network_lookup():\n",
        "    neural_networks = {\n",
        "        \"convolutional neural network\": \"usa filtros para extrair padrões espaciais em imagens\",\n",
        "        \"recurrent neural network\": \"possui conexões recorrentes para processar sequências\",\n",
        "        \"transformer\": \"usa mecanismos de atenção para processar sequências de forma paralela\",\n",
        "        \"autoencoder\": \"aprende a codificar e depois reconstruir os dados\"\n",
        "    }\n",
        "\n",
        "    print(\"🔍 Digite o tipo de rede neural:\")\n",
        "    print(\"Opções válidas:\")\n",
        "    print(\"- convolutional neural network\")\n",
        "    print(\"- recurrent neural network\")\n",
        "    print(\"- transformer\")\n",
        "    print(\"- autoencoder\")\n",
        "    print()\n",
        "\n",
        "    user_input = input(\"Entrada: \").strip()\n",
        "\n",
        "    if user_input in neural_networks:\n",
        "        print(f\"✅ Saída: {neural_networks[user_input]}\")\n",
        "    else:\n",
        "        print(\"❌ Entrada não reconhecida. Use uma das opções listadas.\")\n",
        "\n",
        "# Executar no Colab\n",
        "neural_network_lookup()"
      ]
    }
  ]
}