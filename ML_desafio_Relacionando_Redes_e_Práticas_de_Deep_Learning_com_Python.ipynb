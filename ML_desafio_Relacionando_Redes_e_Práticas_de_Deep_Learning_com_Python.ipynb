{
  "nbformat": 4,
  "nbformat_minor": 0,
  "metadata": {
    "colab": {
      "provenance": [],
      "authorship_tag": "ABX9TyM2sRDHkaUPwbXLAiC+LseE",
      "include_colab_link": true
    },
    "kernelspec": {
      "name": "python3",
      "display_name": "Python 3"
    },
    "language_info": {
      "name": "python"
    }
  },
  "cells": [
    {
      "cell_type": "markdown",
      "metadata": {
        "id": "view-in-github",
        "colab_type": "text"
      },
      "source": [
        "<a href=\"https://colab.research.google.com/github/Mauriciomsonic/laboratoriomsonicA.I./blob/main/ML_desafio_Relacionando_Redes_e_Pr%C3%A1ticas_de_Deep_Learning_com_Python.ipynb\" target=\"_parent\"><img src=\"https://colab.research.google.com/assets/colab-badge.svg\" alt=\"Open In Colab\"/></a>"
      ]
    },
    {
      "cell_type": "code",
      "execution_count": 4,
      "metadata": {
        "colab": {
          "base_uri": "https://localhost:8080/"
        },
        "id": "GL5ZTAB2PfXW",
        "outputId": "0790ed30-0bbe-4b90-c422-b5aeb9564047"
      },
      "outputs": [
        {
          "output_type": "stream",
          "name": "stdout",
          "text": [
            "🧪 EXECUTANDO OS 3 TESTES:\n",
            "======================================================================\n",
            "Teste 1: ✅ PASSOU\n",
            "Entrada: convolutional neural network\n",
            "Esperado: usa filtros para extrair padrões espaciais em imagens\n",
            "Obtido: usa filtros para extrair padrões espaciais em imagens\n",
            "----------------------------------------------------------------------\n",
            "Teste 2: ✅ PASSOU\n",
            "Entrada: recurrent neural network\n",
            "Esperado: possui conexões recorrentes para processar sequências\n",
            "Obtido: possui conexões recorrentes para processar sequências\n",
            "----------------------------------------------------------------------\n",
            "Teste 3: ✅ PASSOU\n",
            "Entrada: transformer\n",
            "Esperado: usa mecanismos de atenção para processar sequências de forma paralela\n",
            "Obtido: usa mecanismos de atenção para processar sequências de forma paralela\n",
            "----------------------------------------------------------------------\n"
          ]
        }
      ],
      "source": [
        "import sys\n",
        "from io import StringIO\n",
        "\n",
        "def test_neural_network(input_text):\n",
        "    # Redireciona stdin para simular a entrada\n",
        "    old_stdin = sys.stdin\n",
        "    sys.stdin = StringIO(input_text)\n",
        "\n",
        "    # Redireciona stdout para capturar a saída\n",
        "    old_stdout = sys.stdout\n",
        "    sys.stdout = mystdout = StringIO()\n",
        "\n",
        "    # Executa a função main\n",
        "    main()\n",
        "\n",
        "    # Restaura stdin e stdout\n",
        "    sys.stdin = old_stdin\n",
        "    sys.stdout = old_stdout\n",
        "\n",
        "    return mystdout.getvalue().strip()\n",
        "\n",
        "# Teste dos 3 casos\n",
        "test_cases = [\n",
        "    \"convolutional neural network\",\n",
        "    \"recurrent neural network\",\n",
        "    \"transformer\"\n",
        "]\n",
        "\n",
        "expected_outputs = [\n",
        "    \"usa filtros para extrair padrões espaciais em imagens\",\n",
        "    \"possui conexões recorrentes para processar sequências\",\n",
        "    \"usa mecanismos de atenção para processar sequências de forma paralela\"\n",
        "]\n",
        "\n",
        "print(\"🧪 EXECUTANDO OS 3 TESTES:\")\n",
        "print(\"=\" * 70)\n",
        "\n",
        "for i, (test_input, expected) in enumerate(zip(test_cases, expected_outputs), 1):\n",
        "    result = test_neural_network(test_input)\n",
        "    status = \"✅ PASSOU\" if result == expected else \"❌ FALHOU\"\n",
        "    print(f\"Teste {i}: {status}\")\n",
        "    print(f\"Entrada: {test_input}\")\n",
        "    print(f\"Esperado: {expected}\")\n",
        "    print(f\"Obtido: {result}\")\n",
        "    print(\"-\" * 70)\n",
        ""
      ]
    }
  ]
}